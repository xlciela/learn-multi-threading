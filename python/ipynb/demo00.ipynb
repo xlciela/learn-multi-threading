{
 "cells": [
  {
   "attachments": {},
   "cell_type": "markdown",
   "metadata": {},
   "source": [
    "# init"
   ]
  },
  {
   "cell_type": "code",
   "execution_count": 2,
   "metadata": {},
   "outputs": [],
   "source": [
    "from pprint import pprint as pp\n",
    "import random\n",
    "import threading\n",
    "import time\n"
   ]
  },
  {
   "cell_type": "code",
   "execution_count": 3,
   "metadata": {},
   "outputs": [],
   "source": [
    "import logging\n",
    "logging.basicConfig(level=logging.DEBUG, format='%(threadName)s: %(message)s')"
   ]
  },
  {
   "attachments": {},
   "cell_type": "markdown",
   "metadata": {},
   "source": [
    "# demo"
   ]
  },
  {
   "attachments": {},
   "cell_type": "markdown",
   "metadata": {},
   "source": [
    "### demo 001"
   ]
  },
  {
   "cell_type": "code",
   "execution_count": 11,
   "metadata": {},
   "outputs": [
    {
     "name": "stdout",
     "output_type": "stream",
     "text": [
      "BBBBBBBBBBBBBBBBBBBBBBBBBBBBBBBBBBBBBBBBBBBBBBBBBBBBBBBBBBBBBBBBBBBBBBBBBBBBBBBBBBBBBBBBBBBBBBBBBBBBBBBBBBBBBBBBBBBBBBBBBBBBBBBBBBBBBBBBBBBBBBBBBBBBBBBBBBBBBBBBBBBBBBBBBBBBBBBBBBBBBBBBBBBBBBBBBBBBBBBBBBBBBBBBBBBBBBBBBBBBBBBBBBBBBBBBBBBBBBBBBBBBBBBBBBBBBBBBBBBBBBBBBBBBBBBBBBBBBBBBBBBBBBBBBBBBBBBBBBBBAAAAAAAAAAAAAAAAAAAAAAAAAAAAAAAAAAAAAAAAAAAAAAAAAAAAAAAAAAAAAAAAAAAAAAAAAAAAAAAAAAAAAAAAAAAAAAAAAAAAAAAAAAAAAAAAAAAAAAAAAAAAAAAAAAAAAAAAAAAAAAAAAAAAAAAAAAAAAAAAAAAAAAAAAAAAAAAAAAAAAAAAAAAAAAAAAAAAAAAAAAAAAAAAAAAAAAAAAAAAAAAAAAAAAAAAAAAAAAAAAAAAAAAAAAAAAAAAAAAAAAAAAAAAAAAAAAAAAAAAAAAAAAAAAAAAAAAAAAAAhello world!\n"
     ]
    }
   ],
   "source": [
    "\n",
    "def do_task():\n",
    "    for _ in range(300):\n",
    "        # logging.debug('print B')\n",
    "        print('B', end='')\n",
    "        # time.sleep(1)\n",
    "\n",
    "\n",
    "th = threading.Thread(target=do_task)\n",
    "th.start()\n",
    "\n",
    "for _ in range(300):\n",
    "    # logging.debug('print A')\n",
    "    print('A', end='')\n",
    "    # time.sleep(1)\n",
    "\n",
    "th.join()\n",
    "print('hello world!') # this line is not executed until th.join() is finished\n"
   ]
  },
  {
   "cell_type": "code",
   "execution_count": 8,
   "metadata": {},
   "outputs": [
    {
     "name": "stdout",
     "output_type": "stream",
     "text": [
      "hello world\n"
     ]
    }
   ],
   "source": [
    "print('hello world')"
   ]
  },
  {
   "attachments": {},
   "cell_type": "markdown",
   "metadata": {},
   "source": [
    "### demo 03"
   ]
  },
  {
   "cell_type": "code",
   "execution_count": 12,
   "metadata": {},
   "outputs": [
    {
     "name": "stdout",
     "output_type": "stream",
     "text": [
      "1  2  red\n",
      "3  4  blue\n"
     ]
    }
   ],
   "source": [
    "'''\n",
    "PASSING ARGUMENTS\n",
    "Version A: Using the Thread's constructor\n",
    "'''\n",
    "\n",
    "import threading\n",
    "\n",
    "\n",
    "def do_task(a: int, b: float, c: str):\n",
    "    print(f'{a}  {b}  {c}')\n",
    "\n",
    "\n",
    "th_foo = threading.Thread(target=do_task, args=(1, 2, 'red'))\n",
    "th_bar = threading.Thread(target=do_task, args=(3, 4, 'blue'))\n",
    "\n",
    "th_foo.start()\n",
    "th_bar.start()\n"
   ]
  },
  {
   "cell_type": "code",
   "execution_count": 13,
   "metadata": {},
   "outputs": [
    {
     "name": "stdout",
     "output_type": "stream",
     "text": [
      "1  2  red\n",
      "3  4  blue\n"
     ]
    }
   ],
   "source": [
    "'''\n",
    "PASSING ARGUMENTS\n",
    "Version B: Using lambdas\n",
    "'''\n",
    "\n",
    "import threading\n",
    "\n",
    "\n",
    "def do_task(a: int, b: float, c: str):\n",
    "    print(f'{a}  {b}  {c}')\n",
    "\n",
    "\n",
    "th_foo = threading.Thread(target=lambda: do_task(1, 2, 'red'))\n",
    "th_bar = threading.Thread(target=lambda: do_task(3, 4, 'blue'))\n",
    "\n",
    "th_foo.start()\n",
    "th_bar.start()\n"
   ]
  },
  {
   "attachments": {},
   "cell_type": "markdown",
   "metadata": {},
   "source": [
    "### list_threads"
   ]
  },
  {
   "cell_type": "code",
   "execution_count": 19,
   "metadata": {},
   "outputs": [
    {
     "name": "stdout",
     "output_type": "stream",
     "text": [
      "02134"
     ]
    }
   ],
   "source": [
    "def do_task(index):\n",
    "    time.sleep(0.5)\n",
    "    print(index, end='')\n",
    "\n",
    "\n",
    "\n",
    "NUM_THREADS = 5\n",
    "tasks = []\n",
    "\n",
    "for i in range(NUM_THREADS):\n",
    "    arg = i\n",
    "    tasks.append(threading.Thread( target= do_task, args=(i,)))\n",
    "\n",
    "for th in tasks:\n",
    "    th.start()"
   ]
  },
  {
   "attachments": {},
   "cell_type": "markdown",
   "metadata": {},
   "source": [
    "### terminate a thread"
   ]
  },
  {
   "cell_type": "code",
   "execution_count": 20,
   "metadata": {},
   "outputs": [
    {
     "name": "stdout",
     "output_type": "stream",
     "text": [
      "Running...\n",
      "Running...\n",
      "Running...\n"
     ]
    }
   ],
   "source": [
    "'''\n",
    "FORCING A THREAD TO TERMINATE (i.e. killing the thread)\n",
    "Using a flag to notify the thread\n",
    "'''\n",
    "\n",
    "flag_stop = False\n",
    "\n",
    "\n",
    "def do_task():\n",
    "    while True:\n",
    "        if flag_stop:\n",
    "            break\n",
    "\n",
    "        print('Running...')\n",
    "        time.sleep(1)\n",
    "\n",
    "\n",
    "th = threading.Thread(target=do_task)\n",
    "th.start()\n",
    "\n",
    "time.sleep(3)\n",
    "flag_stop = True\n"
   ]
  },
  {
   "attachments": {},
   "cell_type": "markdown",
   "metadata": {},
   "source": [
    "### return value(s)"
   ]
  },
  {
   "cell_type": "code",
   "execution_count": 22,
   "metadata": {},
   "outputs": [
    {
     "name": "stdout",
     "output_type": "stream",
     "text": [
      "{'bar': 160, 'foo': 10}\n"
     ]
    }
   ],
   "source": [
    "def double_value(value):\n",
    "    return value * 2\n",
    "\n",
    "res = {}\n",
    "\n",
    "th_foo = threading.Thread( target=lambda: res.update({ 'foo': double_value(5) }) )\n",
    "th_bar = threading.Thread( target=lambda: res.update({ 'bar': double_value(80) }) )\n",
    "\n",
    "th_foo.start()\n",
    "th_bar.start()\n",
    "\n",
    "# Wait until th_foo and th_far finish\n",
    "th_foo.join()\n",
    "th_bar.join()\n",
    "\n",
    "pp(res)"
   ]
  },
  {
   "attachments": {},
   "cell_type": "markdown",
   "metadata": {},
   "source": [
    "### .join() --- a synchronization mechanism"
   ]
  },
  {
   "cell_type": "code",
   "execution_count": 56,
   "metadata": {},
   "outputs": [
    {
     "name": "stdout",
     "output_type": "stream",
     "text": [
      "{'bar': 160, 'foo': 10}\n",
      "{'bar': 160, 'foo': 10}\n",
      "{'bar': 160, 'foo': 10}\n",
      "{'bar': 160, 'foo': 10}\n",
      "{'bar': 160, 'foo': 10}\n"
     ]
    }
   ],
   "source": [
    "def double_value(value):\n",
    "    time.sleep(random.randint(0, 1))\n",
    "    return value * 2\n",
    "\n",
    "running = True\n",
    "\n",
    "def taskMgt():\n",
    "    while running:\n",
    "        res = {}\n",
    "        th1 = threading.Thread( target=lambda: res.update({ 'foo': double_value(5) }) )\n",
    "        th2 = threading.Thread( target=lambda: res.update({ 'bar': double_value(80) }) ) \n",
    "        th1.start()\n",
    "        th2.start()\n",
    "        th1.join()\n",
    "        th2.join()\n",
    "        pp(res)\n",
    "        time.sleep(0.5)\n",
    "\n",
    "# Wait until th_foo and th_far finish\n",
    "# th_foo.join()\n",
    "# th_bar.join()\n",
    "th3 = threading.Thread( target=taskMgt )\n",
    "th3.start()"
   ]
  },
  {
   "cell_type": "code",
   "execution_count": 57,
   "metadata": {},
   "outputs": [
    {
     "name": "stdout",
     "output_type": "stream",
     "text": [
      "{'bar': 160, 'foo': 10}\n"
     ]
    }
   ],
   "source": [
    "running = False"
   ]
  },
  {
   "attachments": {},
   "cell_type": "markdown",
   "metadata": {},
   "source": [
    "### detaching"
   ]
  },
  {
   "cell_type": "code",
   "execution_count": 4,
   "metadata": {},
   "outputs": [
    {
     "name": "stdout",
     "output_type": "stream",
     "text": [
      "foo is starting...\n",
      "foo is exiting...\n",
      "Main thread is exiting\n"
     ]
    }
   ],
   "source": [
    "def do_task():\n",
    "    print('foo is starting...')\n",
    "    time.sleep(2)\n",
    "    print('foo is exiting...')\n",
    "\n",
    "\n",
    "\n",
    "th_foo = threading.Thread(target=do_task)\n",
    "# th_foo = threading.Thread(target=do_task, daemon=True)\n",
    "th_foo.start()\n",
    "\n",
    "# If I comment this statement,\n",
    "# th_foo will be forced into terminating with main thread\n",
    "time.sleep(3)\n",
    "\n",
    "print('Main thread is exiting')"
   ]
  },
  {
   "attachments": {},
   "cell_type": "markdown",
   "metadata": {},
   "source": [
    "### a exec service"
   ]
  },
  {
   "cell_type": "code",
   "execution_count": 7,
   "metadata": {},
   "outputs": [
    {
     "name": "stdout",
     "output_type": "stream",
     "text": [
      "Hello World\n",
      "Hello the Executor Service\n",
      "Hello World~~~\n"
     ]
    }
   ],
   "source": [
    "'''\n",
    "EXECUTOR SERVICES AND THREAD POOLS\n",
    "Version A: The executor service (of which thread pool) containing a single thread\n",
    "'''\n",
    "\n",
    "from concurrent.futures import ThreadPoolExecutor\n",
    "\n",
    "\n",
    "def do_task():\n",
    "    print('Hello the Executor Service')\n",
    "\n",
    "\n",
    "executor = ThreadPoolExecutor(max_workers=1)\n",
    "\n",
    "executor.submit(lambda: print('Hello World'))\n",
    "executor.submit(do_task)\n",
    "executor.submit(lambda: print('Hello World~~~'))\n",
    "\n",
    "executor.shutdown(wait=True)\n"
   ]
  },
  {
   "cell_type": "code",
   "execution_count": null,
   "metadata": {},
   "outputs": [],
   "source": []
  }
 ],
 "metadata": {
  "kernelspec": {
   "display_name": "base",
   "language": "python",
   "name": "python3"
  },
  "language_info": {
   "codemirror_mode": {
    "name": "ipython",
    "version": 3
   },
   "file_extension": ".py",
   "mimetype": "text/x-python",
   "name": "python",
   "nbconvert_exporter": "python",
   "pygments_lexer": "ipython3",
   "version": "3.10.9"
  },
  "orig_nbformat": 4
 },
 "nbformat": 4,
 "nbformat_minor": 2
}
