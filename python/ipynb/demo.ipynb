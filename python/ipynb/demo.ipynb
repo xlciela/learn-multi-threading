{
 "cells": [
  {
   "attachments": {},
   "cell_type": "markdown",
   "metadata": {},
   "source": [
    "# init"
   ]
  },
  {
   "cell_type": "code",
   "execution_count": 1,
   "metadata": {
    "notebookRunGroups": {
     "groupValue": "1"
    }
   },
   "outputs": [],
   "source": [
    "from pprint import pprint as pp\n",
    "import random\n",
    "import threading\n",
    "import time\n"
   ]
  },
  {
   "cell_type": "code",
   "execution_count": 2,
   "metadata": {
    "notebookRunGroups": {
     "groupValue": "1"
    }
   },
   "outputs": [],
   "source": [
    "import logging\n",
    "logging.basicConfig(level=logging.DEBUG, format='%(threadName)s: %(message)s')"
   ]
  },
  {
   "cell_type": "code",
   "execution_count": 3,
   "metadata": {
    "notebookRunGroups": {
     "groupValue": "1"
    }
   },
   "outputs": [],
   "source": [
    "import queue\n",
    "import concurrent.futures"
   ]
  },
  {
   "attachments": {},
   "cell_type": "markdown",
   "metadata": {},
   "source": [
    "# demo"
   ]
  },
  {
   "attachments": {},
   "cell_type": "markdown",
   "metadata": {},
   "source": [
    "### demo 001"
   ]
  },
  {
   "cell_type": "code",
   "execution_count": 11,
   "metadata": {},
   "outputs": [
    {
     "name": "stdout",
     "output_type": "stream",
     "text": [
      "BBBBBBBBBBBBBBBBBBBBBBBBBBBBBBBBBBBBBBBBBBBBBBBBBBBBBBBBBBBBBBBBBBBBBBBBBBBBBBBBBBBBBBBBBBBBBBBBBBBBBBBBBBBBBBBBBBBBBBBBBBBBBBBBBBBBBBBBBBBBBBBBBBBBBBBBBBBBBBBBBBBBBBBBBBBBBBBBBBBBBBBBBBBBBBBBBBBBBBBBBBBBBBBBBBBBBBBBBBBBBBBBBBBBBBBBBBBBBBBBBBBBBBBBBBBBBBBBBBBBBBBBBBBBBBBBBBBBBBBBBBBBBBBBBBBBBBBBBBBBAAAAAAAAAAAAAAAAAAAAAAAAAAAAAAAAAAAAAAAAAAAAAAAAAAAAAAAAAAAAAAAAAAAAAAAAAAAAAAAAAAAAAAAAAAAAAAAAAAAAAAAAAAAAAAAAAAAAAAAAAAAAAAAAAAAAAAAAAAAAAAAAAAAAAAAAAAAAAAAAAAAAAAAAAAAAAAAAAAAAAAAAAAAAAAAAAAAAAAAAAAAAAAAAAAAAAAAAAAAAAAAAAAAAAAAAAAAAAAAAAAAAAAAAAAAAAAAAAAAAAAAAAAAAAAAAAAAAAAAAAAAAAAAAAAAAAAAAAAAAhello world!\n"
     ]
    }
   ],
   "source": [
    "\n",
    "def do_task():\n",
    "    for _ in range(300):\n",
    "        # logging.debug('print B')\n",
    "        print('B', end='')\n",
    "        # time.sleep(1)\n",
    "\n",
    "\n",
    "th = threading.Thread(target=do_task)\n",
    "th.start()\n",
    "\n",
    "for _ in range(300):\n",
    "    # logging.debug('print A')\n",
    "    print('A', end='')\n",
    "    # time.sleep(1)\n",
    "\n",
    "th.join()\n",
    "print('hello world!') # this line is not executed until th.join() is finished\n"
   ]
  },
  {
   "cell_type": "code",
   "execution_count": 8,
   "metadata": {},
   "outputs": [
    {
     "name": "stdout",
     "output_type": "stream",
     "text": [
      "hello world\n"
     ]
    }
   ],
   "source": [
    "print('hello world')"
   ]
  },
  {
   "attachments": {},
   "cell_type": "markdown",
   "metadata": {},
   "source": [
    "### demo 03"
   ]
  },
  {
   "cell_type": "code",
   "execution_count": 12,
   "metadata": {},
   "outputs": [
    {
     "name": "stdout",
     "output_type": "stream",
     "text": [
      "1  2  red\n",
      "3  4  blue\n"
     ]
    }
   ],
   "source": [
    "'''\n",
    "PASSING ARGUMENTS\n",
    "Version A: Using the Thread's constructor\n",
    "'''\n",
    "\n",
    "import threading\n",
    "\n",
    "\n",
    "def do_task(a: int, b: float, c: str):\n",
    "    print(f'{a}  {b}  {c}')\n",
    "\n",
    "\n",
    "th_foo = threading.Thread(target=do_task, args=(1, 2, 'red'))\n",
    "th_bar = threading.Thread(target=do_task, args=(3, 4, 'blue'))\n",
    "\n",
    "th_foo.start()\n",
    "th_bar.start()\n"
   ]
  },
  {
   "cell_type": "code",
   "execution_count": 13,
   "metadata": {},
   "outputs": [
    {
     "name": "stdout",
     "output_type": "stream",
     "text": [
      "1  2  red\n",
      "3  4  blue\n"
     ]
    }
   ],
   "source": [
    "'''\n",
    "PASSING ARGUMENTS\n",
    "Version B: Using lambdas\n",
    "'''\n",
    "\n",
    "import threading\n",
    "\n",
    "\n",
    "def do_task(a: int, b: float, c: str):\n",
    "    print(f'{a}  {b}  {c}')\n",
    "\n",
    "\n",
    "th_foo = threading.Thread(target=lambda: do_task(1, 2, 'red'))\n",
    "th_bar = threading.Thread(target=lambda: do_task(3, 4, 'blue'))\n",
    "\n",
    "th_foo.start()\n",
    "th_bar.start()\n"
   ]
  },
  {
   "attachments": {},
   "cell_type": "markdown",
   "metadata": {},
   "source": [
    "### list_threads"
   ]
  },
  {
   "cell_type": "code",
   "execution_count": 19,
   "metadata": {},
   "outputs": [
    {
     "name": "stdout",
     "output_type": "stream",
     "text": [
      "02134"
     ]
    }
   ],
   "source": [
    "def do_task(index):\n",
    "    time.sleep(0.5)\n",
    "    print(index, end='')\n",
    "\n",
    "\n",
    "\n",
    "NUM_THREADS = 5\n",
    "tasks = []\n",
    "\n",
    "for i in range(NUM_THREADS):\n",
    "    arg = i\n",
    "    tasks.append(threading.Thread( target= do_task, args=(i,)))\n",
    "\n",
    "for th in tasks:\n",
    "    th.start()"
   ]
  },
  {
   "attachments": {},
   "cell_type": "markdown",
   "metadata": {},
   "source": [
    "### terminate a thread"
   ]
  },
  {
   "cell_type": "code",
   "execution_count": 20,
   "metadata": {},
   "outputs": [
    {
     "name": "stdout",
     "output_type": "stream",
     "text": [
      "Running...\n",
      "Running...\n",
      "Running...\n"
     ]
    }
   ],
   "source": [
    "'''\n",
    "FORCING A THREAD TO TERMINATE (i.e. killing the thread)\n",
    "Using a flag to notify the thread\n",
    "'''\n",
    "\n",
    "flag_stop = False\n",
    "\n",
    "\n",
    "def do_task():\n",
    "    while True:\n",
    "        if flag_stop:\n",
    "            break\n",
    "\n",
    "        print('Running...')\n",
    "        time.sleep(1)\n",
    "\n",
    "\n",
    "th = threading.Thread(target=do_task)\n",
    "th.start()\n",
    "\n",
    "time.sleep(3)\n",
    "flag_stop = True\n"
   ]
  },
  {
   "attachments": {},
   "cell_type": "markdown",
   "metadata": {},
   "source": [
    "### return value(s)"
   ]
  },
  {
   "cell_type": "code",
   "execution_count": 22,
   "metadata": {},
   "outputs": [
    {
     "name": "stdout",
     "output_type": "stream",
     "text": [
      "{'bar': 160, 'foo': 10}\n"
     ]
    }
   ],
   "source": [
    "def double_value(value):\n",
    "    return value * 2\n",
    "\n",
    "res = {}\n",
    "\n",
    "th_foo = threading.Thread( target=lambda: res.update({ 'foo': double_value(5) }) )\n",
    "th_bar = threading.Thread( target=lambda: res.update({ 'bar': double_value(80) }) )\n",
    "\n",
    "th_foo.start()\n",
    "th_bar.start()\n",
    "\n",
    "# Wait until th_foo and th_far finish\n",
    "th_foo.join()\n",
    "th_bar.join()\n",
    "\n",
    "pp(res)"
   ]
  },
  {
   "attachments": {},
   "cell_type": "markdown",
   "metadata": {},
   "source": [
    "### .join() --- a synchronization mechanism"
   ]
  },
  {
   "cell_type": "code",
   "execution_count": 56,
   "metadata": {},
   "outputs": [
    {
     "name": "stdout",
     "output_type": "stream",
     "text": [
      "{'bar': 160, 'foo': 10}\n",
      "{'bar': 160, 'foo': 10}\n",
      "{'bar': 160, 'foo': 10}\n",
      "{'bar': 160, 'foo': 10}\n",
      "{'bar': 160, 'foo': 10}\n"
     ]
    }
   ],
   "source": [
    "def double_value(value):\n",
    "    time.sleep(random.randint(0, 1))\n",
    "    return value * 2\n",
    "\n",
    "running = True\n",
    "\n",
    "def taskMgt():\n",
    "    while running:\n",
    "        res = {}\n",
    "        th1 = threading.Thread( target=lambda: res.update({ 'foo': double_value(5) }) )\n",
    "        th2 = threading.Thread( target=lambda: res.update({ 'bar': double_value(80) }) ) \n",
    "        th1.start()\n",
    "        th2.start()\n",
    "        th1.join()\n",
    "        th2.join()\n",
    "        pp(res)\n",
    "        time.sleep(0.5)\n",
    "\n",
    "# Wait until th_foo and th_far finish\n",
    "# th_foo.join()\n",
    "# th_bar.join()\n",
    "th3 = threading.Thread( target=taskMgt )\n",
    "th3.start()"
   ]
  },
  {
   "cell_type": "code",
   "execution_count": 57,
   "metadata": {},
   "outputs": [
    {
     "name": "stdout",
     "output_type": "stream",
     "text": [
      "{'bar': 160, 'foo': 10}\n"
     ]
    }
   ],
   "source": [
    "running = False"
   ]
  },
  {
   "attachments": {},
   "cell_type": "markdown",
   "metadata": {},
   "source": [
    "### detaching"
   ]
  },
  {
   "cell_type": "code",
   "execution_count": 4,
   "metadata": {},
   "outputs": [
    {
     "name": "stdout",
     "output_type": "stream",
     "text": [
      "foo is starting...\n",
      "foo is exiting...\n",
      "Main thread is exiting\n"
     ]
    }
   ],
   "source": [
    "def do_task():\n",
    "    print('foo is starting...')\n",
    "    time.sleep(2)\n",
    "    print('foo is exiting...')\n",
    "\n",
    "\n",
    "\n",
    "# th_foo = threading.Thread(target=do_task)\n",
    "th_foo = threading.Thread(target=do_task, daemon=True) # will run continuously\n",
    "th_foo.start()\n",
    "\n",
    "# If I comment this statement,\n",
    "# th_foo will be forced into terminating with main thread\n",
    "time.sleep(3)\n",
    "\n",
    "print('Main thread is exiting')"
   ]
  },
  {
   "attachments": {},
   "cell_type": "markdown",
   "metadata": {},
   "source": [
    "### a exec service and thread pools"
   ]
  },
  {
   "cell_type": "code",
   "execution_count": 7,
   "metadata": {},
   "outputs": [
    {
     "name": "stdout",
     "output_type": "stream",
     "text": [
      "Hello World\n",
      "Hello the Executor Service\n",
      "Hello World~~~\n"
     ]
    }
   ],
   "source": [
    "'''\n",
    "EXECUTOR SERVICES AND THREAD POOLS\n",
    "Version A: The executor service (of which thread pool) containing a single thread\n",
    "'''\n",
    "\n",
    "from concurrent.futures import ThreadPoolExecutor\n",
    "\n",
    "\n",
    "def do_task():\n",
    "    print('Hello the Executor Service')\n",
    "\n",
    "\n",
    "executor = ThreadPoolExecutor(max_workers=1)\n",
    "\n",
    "executor.submit(lambda: print('Hello World'))\n",
    "executor.submit(do_task)\n",
    "executor.submit(lambda: print('Hello World~~~'))\n",
    "\n",
    "executor.shutdown(wait=True)\n"
   ]
  },
  {
   "cell_type": "code",
   "execution_count": 3,
   "metadata": {},
   "outputs": [
    {
     "name": "stdout",
     "output_type": "stream",
     "text": [
      "Task A is starting\n",
      "Task B is starting\n",
      "Task B is completed\n",
      "Task C is starting\n",
      "Task A is completed\n",
      "Task D is starting\n",
      "Task C is completed\n",
      "Task E is starting\n",
      "Task D is completed\n",
      "Task E is completed\n"
     ]
    }
   ],
   "source": [
    "'''\n",
    "EXECUTOR SERVICES AND THREAD POOLS\n",
    "Version B: The executor service containing multiple threads\n",
    "'''\n",
    "\n",
    "from concurrent.futures import ThreadPoolExecutor\n",
    "\n",
    "\n",
    "def do_task(name: str):\n",
    "    print(f'Task {name} is starting')\n",
    "    time.sleep(3)\n",
    "    print(f'Task {name} is completed')\n",
    "\n",
    "\n",
    "NUM_TASKS = 5\n",
    "executor = ThreadPoolExecutor(max_workers=2)\n",
    "\n",
    "for i in range(NUM_TASKS):\n",
    "    task_name = chr(i + 65)\n",
    "    executor.submit(do_task, task_name) # push the task into the thread pool\n",
    "\n",
    "executor.shutdown(wait=True) # wait until all tasks are completed, then exit\n"
   ]
  },
  {
   "attachments": {},
   "cell_type": "markdown",
   "metadata": {},
   "source": [
    "Version C01: The executor service and Future objects\\\n",
    "`executor.submit(callback, *args, **kwargs) -> Future object representing the execution of the task`"
   ]
  },
  {
   "cell_type": "code",
   "execution_count": 5,
   "metadata": {},
   "outputs": [
    {
     "name": "stdout",
     "output_type": "stream",
     "text": [
      "True\n",
      "49\n"
     ]
    }
   ],
   "source": [
    "\n",
    "def get_squared(x):\n",
    "    return x * x\n",
    "\n",
    "\n",
    "executor = ThreadPoolExecutor(max_workers=1)\n",
    "\n",
    "future = executor.submit(get_squared, 7) \n",
    "# print(future.done())\n",
    "\n",
    "print(future.result())\n",
    "\n",
    "executor.shutdown(wait=True)\n"
   ]
  },
  {
   "cell_type": "code",
   "execution_count": 6,
   "metadata": {},
   "outputs": [
    {
     "name": "stdout",
     "output_type": "stream",
     "text": [
      "Calculating...\n",
      "81\n"
     ]
    }
   ],
   "source": [
    "def get_squared(x):\n",
    "    time.sleep(3)\n",
    "    return x * x\n",
    "\n",
    "\n",
    "executor = ThreadPoolExecutor(max_workers=1)\n",
    "\n",
    "future = executor.submit(get_squared, 9)\n",
    "\n",
    "print('Calculating...')\n",
    "print(future.result())\n",
    "\n",
    "executor.shutdown(wait=True)\n"
   ]
  },
  {
   "attachments": {},
   "cell_type": "markdown",
   "metadata": {},
   "source": [
    "## race condition"
   ]
  },
  {
   "attachments": {},
   "cell_type": "markdown",
   "metadata": {},
   "source": [
    "### race condition without data race"
   ]
  },
  {
   "cell_type": "code",
   "execution_count": 8,
   "metadata": {},
   "outputs": [
    {
     "name": "stdout",
     "output_type": "stream",
     "text": [
      "0132"
     ]
    }
   ],
   "source": [
    "def do_task(index: int):\n",
    "    time.sleep(1)\n",
    "    print(index, end='')\n",
    "\n",
    "\n",
    "NUM_THREADS = 4\n",
    "lstth = []\n",
    "\n",
    "for i in range(NUM_THREADS):\n",
    "    lstth.append(threading.Thread(target=do_task, args=(i,)))\n",
    "\n",
    "for th in lstth:\n",
    "    th.start()\n"
   ]
  },
  {
   "cell_type": "code",
   "execution_count": 9,
   "metadata": {},
   "outputs": [
    {
     "name": "stdout",
     "output_type": "stream",
     "text": [
      "Number of integers that are divisible by 2 or 3 is: 5\n"
     ]
    }
   ],
   "source": [
    "'''\n",
    "DATA RACES\n",
    "Version 01: Without multithreading\n",
    "'''\n",
    "\n",
    "\n",
    "def get_result(n: int):\n",
    "    a = [False] * (n + 1)\n",
    "\n",
    "    for i in range(1, n + 1):\n",
    "        if i % 2 == 0 or i % 3 == 0:\n",
    "            a[i] = True\n",
    "\n",
    "    res = a.count(True)\n",
    "    return res\n",
    "\n",
    "\n",
    "N = 8\n",
    "result = get_result(N)\n",
    "print('Number of integers that are divisible by 2 or 3 is:', result)\n"
   ]
  },
  {
   "cell_type": "code",
   "execution_count": 12,
   "metadata": {},
   "outputs": [
    {
     "name": "stdout",
     "output_type": "stream",
     "text": [
      "Number of integers that are divisible by 2 or 3 is: 5\n"
     ]
    }
   ],
   "source": [
    "'''\n",
    "DATA RACES\n",
    "Version 02: Multithreading\n",
    "'''\n",
    "\n",
    "import threading\n",
    "\n",
    "\n",
    "def count_div_2(a: list, n: int):\n",
    "    for i in range(2, n + 1, 2):\n",
    "        a[i] = True\n",
    "\n",
    "\n",
    "def count_div_3(a: list, n: int):\n",
    "    for i in range(3, n + 1, 3):\n",
    "        a[i] = True\n",
    "\n",
    "\n",
    "N = 8\n",
    "A = [False] * (N + 1)\n",
    "\n",
    "th_div_2 = threading.Thread(target=count_div_2, args=(A, N))\n",
    "th_div_3 = threading.Thread(target=count_div_3, args=(A, N))\n",
    "\n",
    "th_div_2.start()\n",
    "th_div_3.start()\n",
    "th_div_2.join()\n",
    "th_div_3.join()\n",
    "\n",
    "result = A.count(True)\n",
    "\n",
    "print('Number of integers that are divisible by 2 or 3 is:', result)\n"
   ]
  },
  {
   "attachments": {},
   "cell_type": "markdown",
   "metadata": {},
   "source": [
    "### race condition with data race"
   ]
  },
  {
   "cell_type": "code",
   "execution_count": 19,
   "metadata": {},
   "outputs": [
    {
     "name": "stdout",
     "output_type": "stream",
     "text": [
      "counter = 1000\n"
     ]
    }
   ],
   "source": [
    "counter = 0\n",
    "\n",
    "def do_task():\n",
    "    global counter\n",
    "\n",
    "    for _ in range(1000):\n",
    "        temp = counter + 1\n",
    "        time.sleep(0.0001)\n",
    "        counter = temp\n",
    "\n",
    "\n",
    "\n",
    "lstth = [threading.Thread(target=do_task) for _ in range(10)]\n",
    "\n",
    "for th in lstth:\n",
    "    th.start()\n",
    "\n",
    "for th in lstth:\n",
    "    th.join()\n",
    "\n",
    "print('counter =', counter)\n",
    "# We are NOT sure that counter = 32000"
   ]
  },
  {
   "cell_type": "code",
   "execution_count": 25,
   "metadata": {},
   "outputs": [
    {
     "name": "stdout",
     "output_type": "stream",
     "text": [
      "A won !!!\n"
     ]
    },
    {
     "name": "stdout",
     "output_type": "stream",
     "text": [
      "B won !!!\n"
     ]
    }
   ],
   "source": [
    "counter = 0\n",
    "\n",
    "\n",
    "def do_task_a():\n",
    "    global counter\n",
    "    time.sleep(random.randint(0, 1))\n",
    "\n",
    "    while counter < 10:\n",
    "        counter += 1\n",
    "\n",
    "    print('A won !!!')\n",
    "\n",
    "\n",
    "def do_task_b():\n",
    "    global counter\n",
    "    time.sleep(random.randint(0, 1))\n",
    "\n",
    "    while counter > -10:\n",
    "        counter -= 1\n",
    "\n",
    "    print('B won !!!')\n",
    "\n",
    "\n",
    "threading.Thread(target=do_task_a).start()\n",
    "threading.Thread(target=do_task_b).start()\n"
   ]
  },
  {
   "attachments": {},
   "cell_type": "markdown",
   "metadata": {},
   "source": [
    "# Avoid race condition"
   ]
  },
  {
   "attachments": {},
   "cell_type": "markdown",
   "metadata": {},
   "source": [
    "## Synchronization primitive"
   ]
  },
  {
   "attachments": {},
   "cell_type": "markdown",
   "metadata": {},
   "source": [
    "### mutex by threading.Lock()"
   ]
  },
  {
   "cell_type": "code",
   "execution_count": 27,
   "metadata": {},
   "outputs": [
    {
     "name": "stdout",
     "output_type": "stream",
     "text": [
      "counter = 10000\n"
     ]
    }
   ],
   "source": [
    "'''\n",
    "MUTEXES\n",
    "In Python, Lock objects can be used as mutexes\n",
    "'''\n",
    "mutex = threading.Lock()\n",
    "counter = 0\n",
    "\n",
    "def do_task():\n",
    "    global counter\n",
    "\n",
    "    mutex.acquire()\n",
    "\n",
    "    for _ in range(1000):\n",
    "        temp = counter + 1\n",
    "        time.sleep(0.0001)\n",
    "        counter = temp\n",
    "\n",
    "    mutex.release()\n",
    "\n",
    "\n",
    "NUM_THREADS = 10\n",
    "lstth = [threading.Thread(target=do_task) for _ in range(NUM_THREADS)]\n",
    "\n",
    "for th in lstth:\n",
    "    th.start()\n",
    "\n",
    "for th in lstth:\n",
    "    th.join()\n",
    "\n",
    "print('counter =', counter)\n",
    "# We are sure that counter = 32000\n"
   ]
  },
  {
   "cell_type": "code",
   "execution_count": 29,
   "metadata": {},
   "outputs": [
    {
     "name": "stdout",
     "output_type": "stream",
     "text": [
      "counter = 6000\n"
     ]
    }
   ],
   "source": [
    "'''\n",
    "SYNCHRONIZED BLOCKS\n",
    "'''\n",
    "\n",
    "mutex = threading.Lock()\n",
    "counter = 0\n",
    "\n",
    "\n",
    "def do_task():\n",
    "    global counter\n",
    "\n",
    "    # synchronized block\n",
    "    with mutex: # with statement will automatically acquire and  release the lock\n",
    "        for _ in range(1000):\n",
    "            temp = counter + 1\n",
    "            time.sleep(0.0001)\n",
    "            counter = temp\n",
    "\n",
    "\n",
    "NUM_THREADS = 6\n",
    "lstth = [threading.Thread(target=do_task) for _ in range(NUM_THREADS)]\n",
    "\n",
    "for th in lstth:\n",
    "    th.start()\n",
    "\n",
    "for th in lstth:\n",
    "    th.join()\n",
    "\n",
    "print('counter =', counter)\n",
    "# We are sure that counter = 32000\n"
   ]
  },
  {
   "attachments": {},
   "cell_type": "markdown",
   "metadata": {},
   "source": [
    "### Monitors _Concurrency && OOP_"
   ]
  },
  {
   "attachments": {},
   "cell_type": "markdown",
   "metadata": {},
   "source": [
    "A `monitor` is a thread-safe class, object, or module that wraps around a `mutex` \\\n",
    "in order to safely allow access to a method or variable by more than one thread."
   ]
  },
  {
   "cell_type": "code",
   "execution_count": 31,
   "metadata": {},
   "outputs": [],
   "source": [
    "'''\n",
    "MONITORS\n",
    "Implementation of a monitor for managing a counter\n",
    "'''\n",
    "class Monitor:\n",
    "    def __init__(self, res: dict, field_name: str):\n",
    "        self.__lock = threading.Lock()\n",
    "        self.__res = res\n",
    "        self.__field_name = field_name\n",
    "\n",
    "    def increase_counter(self):\n",
    "        with self.__lock:\n",
    "            tmp = self.__res[self.__field_name] + 1\n",
    "            time.sleep(0.0001)\n",
    "            self.__res[self.__field_name] = tmp\n",
    "\n",
    "\n",
    "def do_task(mon: Monitor):\n",
    "    for _ in range(1000):\n",
    "        mon.increase_counter()\n"
   ]
  },
  {
   "cell_type": "code",
   "execution_count": 32,
   "metadata": {},
   "outputs": [
    {
     "name": "stdout",
     "output_type": "stream",
     "text": [
      "counter = 32000\n"
     ]
    }
   ],
   "source": [
    "result = {'data': 0}\n",
    "monitor = Monitor(result, 'data')\n",
    "\n",
    "NUM_THREADS = 32\n",
    "lstth = [threading.Thread(target=do_task, args=(monitor,))\n",
    "         for _ in range(NUM_THREADS)]\n",
    "\n",
    "for th in lstth:\n",
    "    th.start()\n",
    "\n",
    "for th in lstth:\n",
    "    th.join()\n",
    "\n",
    "print('counter =', result['data'])\n",
    "# We are sure that counter = 32000\n"
   ]
  },
  {
   "attachments": {},
   "cell_type": "markdown",
   "metadata": {},
   "source": [
    "### reentrant lock"
   ]
  },
  {
   "attachments": {},
   "cell_type": "markdown",
   "metadata": {},
   "source": [
    "problem"
   ]
  },
  {
   "cell_type": "code",
   "execution_count": null,
   "metadata": {},
   "outputs": [],
   "source": [
    "lock = threading.Lock()\n",
    "\n",
    "\n",
    "def do_task():\n",
    "    with lock:\n",
    "        print('First time acquiring the resource')\n",
    "        with lock:\n",
    "            print('Second time acquiring the resource')\n",
    "\n",
    "\n",
    "th = threading.Thread(target=do_task)\n",
    "th.start()\n",
    "\n",
    "# The thread th shall meet deadlock.\n",
    "# So, you will never get output \"Second time the acquiring resource\".\n"
   ]
  },
  {
   "attachments": {},
   "cell_type": "markdown",
   "metadata": {},
   "source": [
    "solution"
   ]
  },
  {
   "cell_type": "code",
   "execution_count": 33,
   "metadata": {},
   "outputs": [
    {
     "name": "stdout",
     "output_type": "stream",
     "text": [
      "First time acquiring the resource\n",
      "Second time acquiring the resource\n"
     ]
    }
   ],
   "source": [
    "lock = threading.RLock() # reentrant lock\n",
    "\n",
    "\n",
    "def do_task():\n",
    "    with lock:\n",
    "        print('First time acquiring the resource')\n",
    "        with lock:\n",
    "            print('Second time acquiring the resource')\n",
    "\n",
    "\n",
    "th = threading.Thread(target=do_task)\n",
    "th.start()\n",
    "th.join()\n"
   ]
  },
  {
   "cell_type": "code",
   "execution_count": null,
   "metadata": {},
   "outputs": [
    {
     "name": "stderr",
     "output_type": "stream",
     "text": [
      "A: level-0 enter\n",
      "A: level-1 enter\n",
      "A: exit\n",
      "C: level-0 enter\n",
      "C: level-1 enter\n",
      "C: exit\n",
      "B: level-0 enter\n",
      "B: level-1 enter\n",
      "B: exit\n"
     ]
    }
   ],
   "source": [
    "lock = threading.RLock()\n",
    "\n",
    "\n",
    "def do_task():\n",
    "    time.sleep(1)\n",
    "    with lock:\n",
    "        logging.debug('level-0 enter')\n",
    "        with lock:\n",
    "            logging.debug('level-1 enter')\n",
    "    logging.debug('exit')\n",
    "\n",
    "\n",
    "NUM_THREADS = 3\n",
    "\n",
    "for i in range(NUM_THREADS):\n",
    "    threading.Thread(target=do_task, name=chr(i+ 65)).start()\n"
   ]
  },
  {
   "attachments": {},
   "cell_type": "markdown",
   "metadata": {},
   "source": [
    "### barriers and latches"
   ]
  },
  {
   "cell_type": "code",
   "execution_count": null,
   "metadata": {},
   "outputs": [],
   "source": []
  },
  {
   "attachments": {},
   "cell_type": "markdown",
   "metadata": {},
   "source": [
    "### read-write lock"
   ]
  },
  {
   "attachments": {},
   "cell_type": "markdown",
   "metadata": {},
   "source": [
    "### condition variable"
   ]
  },
  {
   "cell_type": "code",
   "execution_count": 9,
   "metadata": {},
   "outputs": [
    {
     "name": "stderr",
     "output_type": "stream",
     "text": [
      "Thread-123 (foo): foo waiting\n",
      "Thread-124 (foo): foo waiting\n",
      "Thread-125 (foo): foo waiting\n",
      "Thread-126 (foo): foo waiting\n",
      "Thread-127 (foo): foo waiting\n",
      "Thread-128 (foo): foo waiting\n",
      "Thread-129 (foo): foo waiting\n",
      "Thread-130 (foo): foo waiting\n",
      "Thread-131 (foo): foo waiting\n",
      "Thread-132 (foo): foo waiting\n",
      "Thread-133 (foo): foo waiting\n",
      "Thread-134 (foo): foo waiting\n",
      "Thread-135 (foo): foo waiting\n",
      "Thread-136 (foo): foo waiting\n",
      "Thread-137 (foo): foo waiting\n",
      "Thread-138 (foo): foo waiting\n",
      "Thread-139 (foo): foo waiting\n",
      "Thread-140 (foo): foo waiting\n",
      "Thread-141 (foo): foo waiting\n",
      "Thread-142 (foo): foo waiting\n",
      "Thread-161 (bar): bar notify\n",
      "Thread-155 (bar): bar notify\n",
      "Thread-154 (bar): bar notify\n",
      "Thread-149 (bar): bar notify\n",
      "Thread-150 (bar): bar notify\n",
      "Thread-148 (bar): bar notify\n",
      "Thread-158 (bar): bar notify\n",
      "Thread-159 (bar): bar notify\n",
      "Thread-144 (bar): bar notify\n",
      "Thread-157 (bar): bar notify\n",
      "Thread-143 (bar): bar notify\n",
      "Thread-153 (bar): bar notify\n",
      "Thread-152 (bar): bar notify\n",
      "Thread-151 (bar): bar notify\n",
      "Thread-147 (bar): bar notify\n",
      "Thread-146 (bar): bar notify\n",
      "Thread-145 (bar): bar notify\n",
      "Thread-156 (bar): bar notify\n",
      "Thread-160 (bar): bar notify\n",
      "Thread-162 (bar): bar notify\n"
     ]
    },
    {
     "name": "stdout",
     "output_type": "stream",
     "text": [
      "foo resumed\n",
      "foo resumed\n",
      "foo resumed\n",
      "foo resumed\n",
      "foo resumed\n",
      "foo resumed\n",
      "foo resumed\n",
      "foo resumed\n",
      "foo resumed\n",
      "foo resumed\n",
      "foo resumed\n",
      "foo resumed\n",
      "foo resumed\n",
      "foo resumed\n",
      "foo resumed\n",
      "foo resumed\n",
      "foo resumed\n",
      "foo resumed\n",
      "foo resumed\n",
      "foo resumed\n",
      "main thread finished\n"
     ]
    }
   ],
   "source": [
    "symbols = ['A', 'B', 'C', 'D', 'E', 'F', 'G', 'H', 'I', 'J']\n",
    "timeFrame = ['15m', '1h']\n",
    "\n",
    "keys = [(symbol, timeframe) for symbol in symbols for timeframe in timeFrame]\n",
    "conditions = {key: threading.Condition() for key in keys}\n",
    "\n",
    "def foo(key: tuple):\n",
    "    logging.debug('foo waiting')\n",
    "    with conditions[key]:\n",
    "        conditions[key].wait()\n",
    "    print('foo resumed')\n",
    "\n",
    "\n",
    "def bar(key: tuple):\n",
    "    time.sleep(3)\n",
    "    logging.debug('bar notify')\n",
    "    with conditions[key]:\n",
    "        conditions[key].notify()\n",
    "\n",
    "tasks_foo = [threading.Thread(target=foo, args=(key,)) for key in keys]\n",
    "tasks_bar = [threading.Thread(target=bar, args=(key,)) for key in keys]\n",
    "\n",
    "for th in tasks_foo:\n",
    "    th.start()\n",
    "for th in tasks_bar:\n",
    "    th.start()\n",
    "\n"
   ]
  },
  {
   "cell_type": "code",
   "execution_count": 10,
   "metadata": {},
   "outputs": [
    {
     "name": "stderr",
     "output_type": "stream",
     "text": [
      "Thread-163 (foo): foo waiting\n",
      "Thread-164 (foo): foo waiting\n",
      "Thread-165 (foo): foo waiting\n",
      "Thread-166 (foo): foo waiting\n",
      "Thread-167 (foo): foo waiting\n",
      "Thread-168 (foo): foo waiting\n",
      "Thread-169 (foo): foo waiting\n",
      "Thread-170 (foo): foo waiting\n",
      "Thread-171 (foo): foo waiting\n",
      "Thread-172 (foo): foo waiting\n",
      "Thread-173 (foo): foo waiting\n",
      "Thread-174 (foo): foo waiting\n",
      "Thread-175 (foo): foo waiting\n",
      "Thread-176 (foo): foo waiting\n",
      "Thread-177 (foo): foo waiting\n",
      "Thread-178 (foo): foo waiting\n",
      "Thread-179 (foo): foo waiting\n",
      "Thread-180 (foo): foo waiting\n",
      "Thread-181 (foo): foo waiting\n",
      "Thread-182 (foo): foo waiting\n",
      "MainThread: bar notify ('A', '15m')\n"
     ]
    },
    {
     "name": "stdout",
     "output_type": "stream",
     "text": [
      "foo @('A', '15m') resumed\n"
     ]
    },
    {
     "name": "stderr",
     "output_type": "stream",
     "text": [
      "MainThread: bar notify ('A', '1h')\n"
     ]
    },
    {
     "name": "stdout",
     "output_type": "stream",
     "text": [
      "foo @('A', '1h') resumed\n"
     ]
    },
    {
     "name": "stderr",
     "output_type": "stream",
     "text": [
      "MainThread: bar notify ('B', '15m')\n"
     ]
    },
    {
     "name": "stdout",
     "output_type": "stream",
     "text": [
      "foo @('B', '15m') resumed\n"
     ]
    },
    {
     "name": "stderr",
     "output_type": "stream",
     "text": [
      "MainThread: bar notify ('B', '1h')\n"
     ]
    },
    {
     "name": "stdout",
     "output_type": "stream",
     "text": [
      "foo @('B', '1h') resumed\n"
     ]
    },
    {
     "name": "stderr",
     "output_type": "stream",
     "text": [
      "MainThread: bar notify ('C', '15m')\n"
     ]
    },
    {
     "name": "stdout",
     "output_type": "stream",
     "text": [
      "foo @('C', '15m') resumed\n"
     ]
    },
    {
     "name": "stderr",
     "output_type": "stream",
     "text": [
      "MainThread: bar notify ('C', '1h')\n"
     ]
    },
    {
     "name": "stdout",
     "output_type": "stream",
     "text": [
      "foo @('C', '1h') resumed\n"
     ]
    },
    {
     "name": "stderr",
     "output_type": "stream",
     "text": [
      "MainThread: bar notify ('D', '15m')\n"
     ]
    },
    {
     "name": "stdout",
     "output_type": "stream",
     "text": [
      "foo @('D', '15m') resumed\n"
     ]
    },
    {
     "name": "stderr",
     "output_type": "stream",
     "text": [
      "MainThread: bar notify ('D', '1h')\n"
     ]
    },
    {
     "name": "stdout",
     "output_type": "stream",
     "text": [
      "foo @('D', '1h') resumed\n"
     ]
    },
    {
     "name": "stderr",
     "output_type": "stream",
     "text": [
      "MainThread: bar notify ('E', '15m')\n"
     ]
    },
    {
     "name": "stdout",
     "output_type": "stream",
     "text": [
      "foo @('E', '15m') resumed\n"
     ]
    },
    {
     "name": "stderr",
     "output_type": "stream",
     "text": [
      "MainThread: bar notify ('E', '1h')\n"
     ]
    },
    {
     "name": "stdout",
     "output_type": "stream",
     "text": [
      "foo @('E', '1h') resumed\n"
     ]
    },
    {
     "name": "stderr",
     "output_type": "stream",
     "text": [
      "MainThread: bar notify ('F', '15m')\n"
     ]
    },
    {
     "name": "stdout",
     "output_type": "stream",
     "text": [
      "foo @('F', '15m') resumed\n"
     ]
    },
    {
     "name": "stderr",
     "output_type": "stream",
     "text": [
      "MainThread: bar notify ('F', '1h')\n"
     ]
    },
    {
     "name": "stdout",
     "output_type": "stream",
     "text": [
      "foo @('F', '1h') resumed\n"
     ]
    },
    {
     "name": "stderr",
     "output_type": "stream",
     "text": [
      "MainThread: bar notify ('G', '15m')\n"
     ]
    },
    {
     "name": "stdout",
     "output_type": "stream",
     "text": [
      "foo @('G', '15m') resumed\n"
     ]
    },
    {
     "name": "stderr",
     "output_type": "stream",
     "text": [
      "MainThread: bar notify ('G', '1h')\n"
     ]
    },
    {
     "name": "stdout",
     "output_type": "stream",
     "text": [
      "foo @('G', '1h') resumed\n"
     ]
    },
    {
     "name": "stderr",
     "output_type": "stream",
     "text": [
      "MainThread: bar notify ('H', '15m')\n"
     ]
    },
    {
     "name": "stdout",
     "output_type": "stream",
     "text": [
      "foo @('H', '15m') resumed\n"
     ]
    },
    {
     "name": "stderr",
     "output_type": "stream",
     "text": [
      "MainThread: bar notify ('H', '1h')\n"
     ]
    },
    {
     "name": "stdout",
     "output_type": "stream",
     "text": [
      "foo @('H', '1h') resumed\n"
     ]
    },
    {
     "name": "stderr",
     "output_type": "stream",
     "text": [
      "MainThread: bar notify ('I', '15m')\n"
     ]
    },
    {
     "name": "stdout",
     "output_type": "stream",
     "text": [
      "foo @('I', '15m') resumed\n"
     ]
    },
    {
     "name": "stderr",
     "output_type": "stream",
     "text": [
      "MainThread: bar notify ('I', '1h')\n"
     ]
    },
    {
     "name": "stdout",
     "output_type": "stream",
     "text": [
      "foo @('I', '1h') resumed\n"
     ]
    },
    {
     "name": "stderr",
     "output_type": "stream",
     "text": [
      "MainThread: bar notify ('J', '15m')\n"
     ]
    },
    {
     "name": "stdout",
     "output_type": "stream",
     "text": [
      "foo @('J', '15m') resumed\n"
     ]
    },
    {
     "name": "stderr",
     "output_type": "stream",
     "text": [
      "MainThread: bar notify ('J', '1h')\n"
     ]
    },
    {
     "name": "stdout",
     "output_type": "stream",
     "text": [
      "main thread finishedfoo @('J', '1h') resumed\n",
      "\n"
     ]
    }
   ],
   "source": [
    "\"\"\"\n",
    "version 2: \n",
    "reuse threads to handle the same tasks continuously\n",
    "by maintain a thread pool \n",
    "\"\"\"\n",
    "symbols = ['A', 'B', 'C', 'D', 'E', 'F', 'G', 'H', 'I', 'J']\n",
    "timeFrame = ['15m', '1h']\n",
    "\n",
    "keys = [(symbol, timeframe) for symbol in symbols for timeframe in timeFrame]\n",
    "conditions = {key: threading.Condition() for key in keys}\n",
    "\n",
    "\n",
    "def foo(key: tuple):\n",
    "    logging.debug('foo waiting')\n",
    "    with conditions[key]:\n",
    "        conditions[key].wait()\n",
    "    print(f'foo @{key} resumed')\n",
    "\n",
    "\n",
    "def bar(key: tuple):\n",
    "    time.sleep(3)\n",
    "    logging.debug(f'bar notify {key}')\n",
    "    with conditions[key]:\n",
    "        conditions[key].notify()\n",
    "\n",
    "thread_pool = {key: threading.Thread(target=foo, args=(key,)) for key in keys}\n",
    "for th in thread_pool.values():\n",
    "    th.start()\n",
    "\n",
    "# To reuse the same threads:\n",
    "for key in keys:\n",
    "    bar(key)\n",
    "\n",
    "\n",
    "for th in tasks_foo:\n",
    "    th.join()\n",
    "print('main thread finished')\n",
    "    "
   ]
  },
  {
   "cell_type": "code",
   "execution_count": 6,
   "metadata": {},
   "outputs": [
    {
     "name": "stderr",
     "output_type": "stream",
     "text": [
      "ThreadPoolExecutor-2_0: foo @('A', '15m') waiting\n",
      "ThreadPoolExecutor-2_1: foo @('A', '1h') waiting\n",
      "ThreadPoolExecutor-2_2: foo @('B', '15m') waiting\n",
      "ThreadPoolExecutor-2_3: foo @('B', '1h') waiting\n",
      "ThreadPoolExecutor-2_4: foo @('C', '15m') waiting\n",
      "ThreadPoolExecutor-2_5: foo @('C', '1h') waiting\n",
      "ThreadPoolExecutor-2_6: foo @('D', '15m') waiting\n",
      "ThreadPoolExecutor-2_7: foo @('D', '1h') waiting\n",
      "ThreadPoolExecutor-2_8: foo @('E', '15m') waiting\n",
      "ThreadPoolExecutor-2_9: foo @('E', '1h') waiting\n",
      "ThreadPoolExecutor-2_10: foo @('F', '15m') waiting\n",
      "ThreadPoolExecutor-2_11: foo @('F', '1h') waiting\n",
      "ThreadPoolExecutor-2_12: foo @('G', '15m') waiting\n",
      "ThreadPoolExecutor-2_13: foo @('G', '1h') waiting\n",
      "ThreadPoolExecutor-2_14: foo @('H', '15m') waiting\n",
      "ThreadPoolExecutor-2_15: foo @('H', '1h') waiting\n",
      "ThreadPoolExecutor-2_16: foo @('I', '15m') waiting\n",
      "ThreadPoolExecutor-2_17: foo @('I', '1h') waiting\n",
      "ThreadPoolExecutor-2_18: foo @('J', '15m') waiting\n",
      "ThreadPoolExecutor-2_19: foo @('J', '1h') waiting\n"
     ]
    }
   ],
   "source": [
    "\"\"\"\n",
    "version 3:\n",
    "use concurrent.futures module to create a thread pool\n",
    "\"\"\"\n",
    "import concurrent.futures\n",
    "\n",
    "symbols = ['A', 'B', 'C', 'D', 'E', 'F', 'G', 'H', 'I', 'J']\n",
    "timeFrame = ['15m', '1h']\n",
    "\n",
    "keys = [(symbol, timeframe) for symbol in symbols for timeframe in timeFrame]\n",
    "conditions = {key: threading.Condition() for key in keys}\n",
    "get_signals = {key: threading.Condition() for key in keys}\n",
    "\n",
    "def foo(key: tuple):\n",
    "    logging.debug(f'foo @{key} waiting')\n",
    "    with conditions[key]:\n",
    "        conditions[key].wait()\n",
    "        with get_signals[key]:\n",
    "            get_signals[key].wait()\n",
    "    print(f'foo @{key} resumed')\n",
    "        \n",
    "\n",
    "\n",
    "# def bar(key: tuple):\n",
    "#     time.sleep(3)\n",
    "#     logging.debug('bar notify @{key}')\n",
    "#     with conditions[key]:\n",
    "#         conditions[key].notify()\n",
    "\n",
    "\n",
    "with concurrent.futures.ThreadPoolExecutor(max_workers=len(keys)) as executor:\n",
    "    # Submit tasks to the thread pool\n",
    "    for key in keys:\n",
    "        executor.submit(foo, key)\n",
    "\n",
    "class Notice:\n",
    "    def __init__(self, keys: list[tuple], conditions, get_signals):\n",
    "        self.keys = keys\n",
    "        self.conditions = conditions\n",
    "        self.get_signals = get_signals\n",
    "    \n",
    "    def startWatching(self):\n",
    "        for keys in self.keys:\n",
    "            logging.debug(f'{key} start watching')\n",
    "            time.sleep(random.randint(1, 3))\n",
    "            with self.conditions[keys]:\n",
    "                self.conditions[keys].notify()\n",
    "    def emit_signal(self):\n",
    "        for keys in self.keys:\n",
    "            time.sleep(random.randint(2, 8))\n",
    "            with self.get_signals[keys]:\n",
    "                self.get_signals[keys].notify()\n",
    "\n",
    "notice = Notice(keys, conditions, get_signals)\n",
    "notice.startWatching()\n",
    "notice.emit_signal()\n",
    "    \n",
    "\n",
    "\n",
    "    \n",
    "\n",
    "\n"
   ]
  },
  {
   "attachments": {},
   "cell_type": "markdown",
   "metadata": {},
   "source": [
    "### block queues"
   ]
  },
  {
   "cell_type": "code",
   "execution_count": null,
   "metadata": {},
   "outputs": [],
   "source": [
    "import queue\n",
    "\n",
    "\n",
    "def worker(q: queue.Queue):\n",
    "    while True:\n",
    "        item = q.get()\n",
    "        if item is None:\n",
    "            break # exit the thread\n",
    "        function, args = item\n",
    "        function(*args)\n",
    "\n",
    "\n",
    "q = queue.Queue()\n",
    "t = threading.Thread(target=worker, args=(q,))\n",
    "t.start()\n",
    "\n",
    "\n",
    "def my_function(arg1, arg2):\n",
    "    print(arg1, arg2)\n",
    "\n",
    "\n",
    "q.put((my_function, (\"Hello\", \"world\")))\n",
    "\n",
    "q.put(None)\n",
    "t.join()\n"
   ]
  },
  {
   "cell_type": "code",
   "execution_count": 32,
   "metadata": {},
   "outputs": [
    {
     "name": "stderr",
     "output_type": "stream",
     "text": [
      "Thread-38 (worker): False\n"
     ]
    },
    {
     "name": "stdout",
     "output_type": "stream",
     "text": [
      "non-blocking main thread\n"
     ]
    },
    {
     "name": "stderr",
     "output_type": "stream",
     "text": [
      "Thread-39 (configure_tasks): added new task: ('A', '15m')\n",
      "ThreadPoolExecutor-18_0: False)\n",
      "ThreadPoolExecutor-18_0: handle task ('A', '15m')\n",
      "Thread-39 (configure_tasks): added new task: ('A', '1h')\n",
      "ThreadPoolExecutor-18_0: False)\n",
      "ThreadPoolExecutor-18_0: handle task ('A', '1h')\n",
      "MainThread: added new task: new task\n"
     ]
    },
    {
     "name": "stdout",
     "output_type": "stream",
     "text": [
      "main thread finished, but the worker thread is still alive\n"
     ]
    },
    {
     "name": "stderr",
     "output_type": "stream",
     "text": [
      "ThreadPoolExecutor-18_0: False)\n",
      "ThreadPoolExecutor-18_0: handle task new task\n"
     ]
    }
   ],
   "source": [
    "from concurrent.futures import thread\n",
    "\n",
    "\n",
    "symbols = ['A', 'B', 'C', ]\n",
    "timeFrame = ['15m', '1h']\n",
    "keys = [(symbol, timeframe) for symbol in symbols for timeframe in timeFrame]\n",
    "\n",
    "# triggers = { key: threading.Event() for key in keys} \n",
    "\n",
    "def worker(task_queue: queue.Queue):\n",
    "    logging.debug(f'{threading.current_thread().daemon}')\n",
    "    with concurrent.futures.ThreadPoolExecutor() as executor:\n",
    "        while True:\n",
    "            task = task_queue.get()\n",
    "            executor.submit(handle_task, task)\n",
    "\n",
    "def handle_task(task):\n",
    "    logging.debug(f'{threading.current_thread().daemon})')\n",
    "    logging.debug(f'handle task {task}')\n",
    "    time.sleep(random.randit(1, 3))\n",
    "\n",
    "def add_task(task_queue: queue.Queue, task):\n",
    "    time.sleep(5) # wait for 5 seconds\n",
    "    task_queue.put(task) # add new task\n",
    "    logging.debug(f'added new task: {task}')\n",
    "\n",
    "task_queue = queue.Queue()\n",
    "t1 = threading.Thread(target=worker, args=(task_queue,))\n",
    "def configure_tasks():\n",
    "    for key in keys:\n",
    "        # triggers[key].set()\n",
    "        add_task(task_queue, key)\n",
    "t2 = threading.Thread(target=configure_tasks,)\n",
    "\n",
    "t1.start()\n",
    "t2.start()\n",
    "\n",
    "print('non-blocking main thread')\n",
    "\n",
    "for i in range(1, 3):\n",
    "    time.sleep(random.randint(1, 3))\n",
    "# check if the thread is still alive\n",
    "add_task(task_queue, 'new task')\n",
    "print('main thread finished, but the worker thread is still alive')"
   ]
  },
  {
   "cell_type": "code",
   "execution_count": 28,
   "metadata": {},
   "outputs": [
    {
     "name": "stdout",
     "output_type": "stream",
     "text": [
      "hello, world~\n"
     ]
    },
    {
     "name": "stderr",
     "output_type": "stream",
     "text": [
      "Thread-31 (configure_tasks): added new task: ('B', '15m')\n",
      "ThreadPoolExecutor-14_1: handle task ('B', '15m')\n",
      "Thread-31 (configure_tasks): added new task: ('B', '1h')\n",
      "ThreadPoolExecutor-14_0: handle task ('B', '1h')\n",
      "Thread-31 (configure_tasks): added new task: ('C', '15m')\n",
      "ThreadPoolExecutor-14_1: handle task ('C', '15m')\n",
      "Thread-31 (configure_tasks): added new task: ('C', '1h')\n",
      "ThreadPoolExecutor-14_0: handle task ('C', '1h')\n"
     ]
    }
   ],
   "source": [
    "print('hello, world~')"
   ]
  },
  {
   "attachments": {},
   "cell_type": "markdown",
   "metadata": {},
   "source": [
    "### thread-local storage"
   ]
  },
  {
   "cell_type": "code",
   "execution_count": null,
   "metadata": {},
   "outputs": [],
   "source": []
  },
  {
   "attachments": {},
   "cell_type": "markdown",
   "metadata": {},
   "source": [
    "## non-blocking methods"
   ]
  },
  {
   "attachments": {},
   "cell_type": "markdown",
   "metadata": {},
   "source": [
    "### demo 01"
   ]
  },
  {
   "cell_type": "code",
   "execution_count": 8,
   "metadata": {},
   "outputs": [],
   "source": [
    "def mytest(task_queue: queue.Queue):\n",
    "    logging.debug('now get the task from the queue')\n",
    "    while True:\n",
    "        print(task_queue.get())\n"
   ]
  },
  {
   "cell_type": "code",
   "execution_count": 9,
   "metadata": {},
   "outputs": [
    {
     "name": "stderr",
     "output_type": "stream",
     "text": [
      "ThreadPoolExecutor-0_0: now get the task from the queue\n"
     ]
    },
    {
     "name": "stdout",
     "output_type": "stream",
     "text": [
      "0\n"
     ]
    }
   ],
   "source": [
    "task_queue = queue.Queue()\n",
    "task_queue.put(0)\n",
    "with concurrent.futures.ThreadPoolExecutor() as executor:\n",
    "    executor.submit(mytest, task_queue)\n",
    "logging.debug('blocking main thread? Yes, it is.')\n",
    "task_queue.put(1)\n",
    "task_queue.put(2)\n"
   ]
  },
  {
   "attachments": {},
   "cell_type": "markdown",
   "metadata": {},
   "source": [
    "### Next level play: nested threads"
   ]
  },
  {
   "cell_type": "code",
   "execution_count": 4,
   "metadata": {},
   "outputs": [
    {
     "name": "stderr",
     "output_type": "stream",
     "text": [
      "Thread-3 (worker): now get the task from the queue\n",
      "MainThread: blocking main thread? No, it isn't.\n",
      "ThreadPoolExecutor-0_0: handling task 0\n",
      "ThreadPoolExecutor-0_1: handling task 1\n",
      "ThreadPoolExecutor-0_2: handling task 2\n"
     ]
    },
    {
     "name": "stdout",
     "output_type": "stream",
     "text": [
      "01\n",
      "\n",
      "2\n"
     ]
    }
   ],
   "source": [
    "def worker(task_queue: queue.Queue):\n",
    "    with concurrent.futures.ThreadPoolExecutor() as executor:\n",
    "        logging.debug('now get the task from the queue')\n",
    "        while True:\n",
    "            task = task_queue.get()\n",
    "            # if task is None:\n",
    "            #     break\n",
    "            executor.submit(handle_task, task)\n",
    "\n",
    "def handle_task(task):\n",
    "    logging.debug(f'handling task {task}')\n",
    "    # Do some work...\n",
    "    print(task)\n",
    "\n",
    "task_queue = queue.Queue()\n",
    "task_queue.put(0)\n",
    "t1 = threading.Thread(target=worker, args=(task_queue,))\n",
    "t1.start()\n",
    "task_queue.put(1)\n",
    "task_queue.put(2)\n",
    "# t1.join() # if you want to wait for the worker thread to finish\n",
    "logging.debug('blocking main thread? No, it isn\\'t.')"
   ]
  },
  {
   "attachments": {},
   "cell_type": "markdown",
   "metadata": {},
   "source": [
    "### solution A --  nested threads with executor running at background"
   ]
  },
  {
   "cell_type": "code",
   "execution_count": 4,
   "metadata": {},
   "outputs": [
    {
     "name": "stderr",
     "output_type": "stream",
     "text": [
      "Thread-3 (worker): now get the task from the queue\n",
      "MainThread: blocking main thread? No, it isn't\n",
      "ThreadPoolExecutor-0_0: handling task 0\n",
      "ThreadPoolExecutor-0_1: handling task 1\n",
      "ThreadPoolExecutor-0_2: handling task 2\n",
      "ThreadPoolExecutor-0_0: handling task 3\n"
     ]
    },
    {
     "name": "stdout",
     "output_type": "stream",
     "text": [
      "0\n",
      "1\n",
      "2\n",
      "3\n"
     ]
    },
    {
     "name": "stderr",
     "output_type": "stream",
     "text": [
      "MainThread: main thread is running\n",
      "ThreadPoolExecutor-0_1: handling task 59\n"
     ]
    },
    {
     "name": "stdout",
     "output_type": "stream",
     "text": [
      "59\n"
     ]
    },
    {
     "name": "stderr",
     "output_type": "stream",
     "text": [
      "MainThread: main thread is running\n",
      "ThreadPoolExecutor-0_0: handling task 41\n",
      "MainThread: main thread is running\n",
      "ThreadPoolExecutor-0_2: handling task 51\n",
      "MainThread: main thread finished\n"
     ]
    },
    {
     "name": "stdout",
     "output_type": "stream",
     "text": [
      "41\n",
      "51\n"
     ]
    }
   ],
   "source": [
    "def worker(task_queue: queue.Queue, ) :\n",
    "    with concurrent.futures.ThreadPoolExecutor() as executor:\n",
    "        logging.debug('now get the task from the queue')\n",
    "        while True:\n",
    "            task = task_queue.get()\n",
    "            executor.submit(handle_task, task)\n",
    "\n",
    "def handle_task(task):\n",
    "    logging.debug(f'handling task {task}')\n",
    "    # Do some work...\n",
    "    print(task)\n",
    "    time.sleep(1, 10)\n",
    "\n",
    "task_queue = queue.Queue()\n",
    "task_queue.put(0)\n",
    "t1 = threading.Thread(target=worker, args=(task_queue,), daemon=True)\n",
    "t1.start()\n",
    "task_queue.put(1)\n",
    "task_queue.put(2)\n",
    "task_queue.put(3)\n",
    "\n",
    "# The worker thread will run in the background\n",
    "# The main thread will not be blocked\n",
    "logging.debug('blocking main thread? No, it isn\\'t')\n",
    "def main():\n",
    "    for i in range(3):\n",
    "        time.sleep(random.randint(0, 3))\n",
    "        task_queue.put(random.randint(0, 101))\n",
    "        logging.debug('main thread is running')\n",
    "    logging.debug('main thread finished')\n",
    "main()\n",
    "\n"
   ]
  },
  {
   "attachments": {},
   "cell_type": "markdown",
   "metadata": {},
   "source": [
    "### solutinon B -- simple threading.Thread only suit for single task"
   ]
  },
  {
   "cell_type": "code",
   "execution_count": 5,
   "metadata": {},
   "outputs": [
    {
     "name": "stderr",
     "output_type": "stream",
     "text": [
      "Thread-4 (mytest): now get the task from the queue>>>\n",
      "Thread-4 (mytest): handling task 0\n"
     ]
    },
    {
     "name": "stdout",
     "output_type": "stream",
     "text": [
      "blocking main thread? No, it is not. \n",
      "0\n"
     ]
    },
    {
     "name": "stderr",
     "output_type": "stream",
     "text": [
      "MainThread: main thread is still running\n",
      "Thread-4 (mytest): handling task 1\n"
     ]
    },
    {
     "name": "stdout",
     "output_type": "stream",
     "text": [
      "1\n"
     ]
    },
    {
     "name": "stderr",
     "output_type": "stream",
     "text": [
      "MainThread: main thread is still running\n",
      "Thread-4 (mytest): handling task 2\n"
     ]
    },
    {
     "name": "stdout",
     "output_type": "stream",
     "text": [
      "2\n"
     ]
    },
    {
     "name": "stderr",
     "output_type": "stream",
     "text": [
      "MainThread: main thread is still running\n",
      "MainThread: main thread finished\n"
     ]
    },
    {
     "name": "stderr",
     "output_type": "stream",
     "text": [
      "Thread-4 (mytest): handling task 3\n"
     ]
    },
    {
     "name": "stdout",
     "output_type": "stream",
     "text": [
      "3\n"
     ]
    }
   ],
   "source": [
    "def mytest(task_queue: queue.Queue):\n",
    "    logging.debug('now get the task from the queue>>>')\n",
    "    while True:\n",
    "        task = task_queue.get()\n",
    "        handle_task(task)\n",
    "\n",
    "def handle_task(task):\n",
    "    logging.debug(f'handling task {task}')\n",
    "    # do sth\n",
    "    print(task)\n",
    "    time.sleep(random.randint(1,10))\n",
    "\n",
    "task_queue = queue.Queue()\n",
    "task_queue.put(0)\n",
    "t1 = threading.Thread(target=mytest, args=(task_queue,), daemon=True )\n",
    "t1.start()\n",
    "task_queue.put(1)\n",
    "task_queue.put(2)\n",
    "task_queue.put(3)\n",
    "print('blocking main thread? No, it is not. ')\n",
    "\n",
    "def main():\n",
    "    for i in range(3):\n",
    "        time.sleep(random.randint(1, 3))\n",
    "        task_queue.put(random.randint(0, 101))\n",
    "        logging.debug('main thread is still running')\n",
    "    logging.debug('main thread finished')\n",
    "main()"
   ]
  },
  {
   "cell_type": "code",
   "execution_count": null,
   "metadata": {},
   "outputs": [],
   "source": []
  }
 ],
 "metadata": {
  "kernelspec": {
   "display_name": "base",
   "language": "python",
   "name": "python3"
  },
  "language_info": {
   "codemirror_mode": {
    "name": "ipython",
    "version": 3
   },
   "file_extension": ".py",
   "mimetype": "text/x-python",
   "name": "python",
   "nbconvert_exporter": "python",
   "pygments_lexer": "ipython3",
   "version": "3.10.9"
  },
  "orig_nbformat": 4
 },
 "nbformat": 4,
 "nbformat_minor": 2
}
